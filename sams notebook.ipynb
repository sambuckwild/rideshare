{
 "cells": [
  {
   "cell_type": "code",
   "execution_count": null,
   "metadata": {},
   "outputs": [],
   "source": [
    "import pandas as pd\n",
    "import numpy as np\n",
    "import matplotlib.pyplot as plt\n",
    "import seaborn as sns"
   ]
  },
  {
   "cell_type": "code",
   "execution_count": null,
   "metadata": {},
   "outputs": [],
   "source": [
    "df = pd.read_csv('data/churn.csv')\n",
    "df.head(10)"
   ]
  },
  {
   "cell_type": "code",
   "execution_count": null,
   "metadata": {},
   "outputs": [],
   "source": [
    "df.info()"
   ]
  },
  {
   "cell_type": "code",
   "execution_count": null,
   "metadata": {},
   "outputs": [],
   "source": [
    "df['last_trip_date'] = pd.to_datetime(df['last_trip_date'])\n",
    "df.info()"
   ]
  },
  {
   "cell_type": "code",
   "execution_count": null,
   "metadata": {},
   "outputs": [],
   "source": [
    "df.head()"
   ]
  },
  {
   "cell_type": "code",
   "execution_count": null,
   "metadata": {},
   "outputs": [],
   "source": [
    "# churn=True means no longer active so has not taken a trip since 6/1/2014\n",
    "df['churn'] = df['last_trip_date'] < '2014-06-01'\n",
    "\n"
   ]
  },
  {
   "cell_type": "code",
   "execution_count": null,
   "metadata": {},
   "outputs": [],
   "source": [
    "def create_churn_col(df, last_trip, date):\n",
    "    '''Inputs: df - current dataframe\n",
    "               last_trip - string of last_trip datetime column\n",
    "               date - date string to sort at for active versus not active user\n",
    "        Creates a boolean column for if the user churned or not based on last trip\n",
    "        Output: df with new churn column boolean'''\n",
    "    df['churn'] = df[last_trip] < date\n",
    "    return df\n",
    "    "
   ]
  },
  {
   "cell_type": "code",
   "execution_count": null,
   "metadata": {},
   "outputs": [],
   "source": [
    "create_churn_col(df, 'last_trip_date', '2014-06-01')\n",
    "df.head()"
   ]
  },
  {
   "cell_type": "code",
   "execution_count": null,
   "metadata": {},
   "outputs": [],
   "source": [
    "def bool_to_int(df, col_lst):\n",
    "    '''Inputs: df - current dataframe\n",
    "               col_lst - list of boolean columns\n",
    "        Changes boolean values to 1 and 0 \n",
    "        Output - df with new int columns'''\n",
    "    for col in col_lst:\n",
    "        df[col] = df[col].astype(int)\n",
    "    return df"
   ]
  },
  {
   "cell_type": "code",
   "execution_count": null,
   "metadata": {},
   "outputs": [],
   "source": [
    "bool_to_int(df, ['churn', 'luxury_car_user'])\n",
    "df.head()"
   ]
  },
  {
   "cell_type": "code",
   "execution_count": null,
   "metadata": {},
   "outputs": [],
   "source": [
    "df.info()"
   ]
  },
  {
   "cell_type": "code",
   "execution_count": null,
   "metadata": {},
   "outputs": [],
   "source": [
    "sns.pairplot(df)"
   ]
  },
  {
   "cell_type": "code",
   "execution_count": 1,
   "metadata": {},
   "outputs": [],
   "source": [
    "from clean import *"
   ]
  },
  {
   "cell_type": "code",
   "execution_count": 2,
   "metadata": {},
   "outputs": [
    {
     "name": "stdout",
     "output_type": "stream",
     "text": [
      "Enter path of filename: data/churn.csv\n"
     ]
    }
   ],
   "source": [
    "file = (input(\"Enter path of filename: \"))\n",
    "df1 = pd.read_csv(file)\n",
    "df1 = to_date(df1)\n",
    "df1 = create_churn_col(df1, 'last_trip_date', '2014-06-01')\n",
    "df1 = bool_to_int(df1, ['churn', 'luxury_car_user'])\n",
    "df1 = hot_encode(df1)\n",
    "df1 = drop_nan_ratings(df1)\n"
   ]
  },
  {
   "cell_type": "code",
   "execution_count": 3,
   "metadata": {},
   "outputs": [
    {
     "name": "stdout",
     "output_type": "stream",
     "text": [
      "<class 'pandas.core.frame.DataFrame'>\n",
      "Int64Index: 41445 entries, 0 to 49998\n",
      "Data columns (total 13 columns):\n",
      " #   Column                  Non-Null Count  Dtype         \n",
      "---  ------                  --------------  -----         \n",
      " 0   avg_dist                41445 non-null  float64       \n",
      " 1   avg_rating_by_driver    41445 non-null  float64       \n",
      " 2   avg_rating_of_driver    41445 non-null  float64       \n",
      " 3   avg_surge               41445 non-null  float64       \n",
      " 4   city                    41445 non-null  object        \n",
      " 5   last_trip_date          41445 non-null  datetime64[ns]\n",
      " 6   phone                   41445 non-null  float64       \n",
      " 7   signup_date             41445 non-null  datetime64[ns]\n",
      " 8   surge_pct               41445 non-null  float64       \n",
      " 9   trips_in_first_30_days  41445 non-null  int64         \n",
      " 10  luxury_car_user         41445 non-null  int64         \n",
      " 11  weekday_pct             41445 non-null  float64       \n",
      " 12  churn                   41445 non-null  int64         \n",
      "dtypes: datetime64[ns](2), float64(7), int64(3), object(1)\n",
      "memory usage: 4.4+ MB\n"
     ]
    }
   ],
   "source": [
    "df1.info()"
   ]
  },
  {
   "cell_type": "code",
   "execution_count": 51,
   "metadata": {},
   "outputs": [
    {
     "name": "stdout",
     "output_type": "stream",
     "text": [
      "Enter path of filename: data/churn_train.csv\n"
     ]
    }
   ],
   "source": [
    "file = (input(\"Enter path of filename: \"))\n",
    "df = pd.read_csv(file)\n",
    "df = to_date(df)\n",
    "df = create_churn_col(df, 'last_trip_date', '2014-06-01')\n",
    "df = bool_to_int(df, ['churn', 'luxury_car_user'])\n",
    "df = hot_encode(df)\n",
    "df = drop_nan_ratings(df)"
   ]
  },
  {
   "cell_type": "code",
   "execution_count": 52,
   "metadata": {},
   "outputs": [
    {
     "name": "stdout",
     "output_type": "stream",
     "text": [
      "<class 'pandas.core.frame.DataFrame'>\n",
      "Int64Index: 33132 entries, 0 to 39999\n",
      "Data columns (total 13 columns):\n",
      " #   Column                  Non-Null Count  Dtype         \n",
      "---  ------                  --------------  -----         \n",
      " 0   avg_dist                33132 non-null  float64       \n",
      " 1   avg_rating_by_driver    33132 non-null  float64       \n",
      " 2   avg_rating_of_driver    33132 non-null  float64       \n",
      " 3   avg_surge               33132 non-null  float64       \n",
      " 4   city                    33132 non-null  object        \n",
      " 5   last_trip_date          33132 non-null  datetime64[ns]\n",
      " 6   phone                   33132 non-null  float64       \n",
      " 7   signup_date             33132 non-null  datetime64[ns]\n",
      " 8   surge_pct               33132 non-null  float64       \n",
      " 9   trips_in_first_30_days  33132 non-null  int64         \n",
      " 10  luxury_car_user         33132 non-null  int64         \n",
      " 11  weekday_pct             33132 non-null  float64       \n",
      " 12  churn                   33132 non-null  int64         \n",
      "dtypes: datetime64[ns](2), float64(7), int64(3), object(1)\n",
      "memory usage: 3.5+ MB\n"
     ]
    }
   ],
   "source": [
    "df.info()"
   ]
  },
  {
   "cell_type": "code",
   "execution_count": 53,
   "metadata": {},
   "outputs": [
    {
     "data": {
      "text/html": [
       "<div>\n",
       "<style scoped>\n",
       "    .dataframe tbody tr th:only-of-type {\n",
       "        vertical-align: middle;\n",
       "    }\n",
       "\n",
       "    .dataframe tbody tr th {\n",
       "        vertical-align: top;\n",
       "    }\n",
       "\n",
       "    .dataframe thead th {\n",
       "        text-align: right;\n",
       "    }\n",
       "</style>\n",
       "<table border=\"1\" class=\"dataframe\">\n",
       "  <thead>\n",
       "    <tr style=\"text-align: right;\">\n",
       "      <th></th>\n",
       "      <th>avg_dist</th>\n",
       "      <th>avg_rating_by_driver</th>\n",
       "      <th>avg_rating_of_driver</th>\n",
       "      <th>avg_surge</th>\n",
       "      <th>city</th>\n",
       "      <th>last_trip_date</th>\n",
       "      <th>phone</th>\n",
       "      <th>signup_date</th>\n",
       "      <th>surge_pct</th>\n",
       "      <th>trips_in_first_30_days</th>\n",
       "      <th>luxury_car_user</th>\n",
       "      <th>weekday_pct</th>\n",
       "      <th>churn</th>\n",
       "    </tr>\n",
       "  </thead>\n",
       "  <tbody>\n",
       "    <tr>\n",
       "      <th>0</th>\n",
       "      <td>6.94</td>\n",
       "      <td>5.0</td>\n",
       "      <td>5.0</td>\n",
       "      <td>1.0</td>\n",
       "      <td>Astapor</td>\n",
       "      <td>2014-05-03</td>\n",
       "      <td>1.0</td>\n",
       "      <td>2014-01-12</td>\n",
       "      <td>0.0</td>\n",
       "      <td>0</td>\n",
       "      <td>0</td>\n",
       "      <td>100.0</td>\n",
       "      <td>1</td>\n",
       "    </tr>\n",
       "    <tr>\n",
       "      <th>1</th>\n",
       "      <td>8.06</td>\n",
       "      <td>5.0</td>\n",
       "      <td>5.0</td>\n",
       "      <td>1.0</td>\n",
       "      <td>Astapor</td>\n",
       "      <td>2014-01-26</td>\n",
       "      <td>1.0</td>\n",
       "      <td>2014-01-25</td>\n",
       "      <td>0.0</td>\n",
       "      <td>2</td>\n",
       "      <td>1</td>\n",
       "      <td>0.0</td>\n",
       "      <td>1</td>\n",
       "    </tr>\n",
       "    <tr>\n",
       "      <th>6</th>\n",
       "      <td>4.87</td>\n",
       "      <td>4.7</td>\n",
       "      <td>4.0</td>\n",
       "      <td>1.0</td>\n",
       "      <td>Astapor</td>\n",
       "      <td>2014-04-21</td>\n",
       "      <td>1.0</td>\n",
       "      <td>2014-01-18</td>\n",
       "      <td>0.0</td>\n",
       "      <td>0</td>\n",
       "      <td>0</td>\n",
       "      <td>66.7</td>\n",
       "      <td>1</td>\n",
       "    </tr>\n",
       "    <tr>\n",
       "      <th>7</th>\n",
       "      <td>1.78</td>\n",
       "      <td>4.0</td>\n",
       "      <td>5.0</td>\n",
       "      <td>1.0</td>\n",
       "      <td>Winterfell</td>\n",
       "      <td>2014-01-12</td>\n",
       "      <td>0.0</td>\n",
       "      <td>2014-01-11</td>\n",
       "      <td>0.0</td>\n",
       "      <td>3</td>\n",
       "      <td>0</td>\n",
       "      <td>0.0</td>\n",
       "      <td>1</td>\n",
       "    </tr>\n",
       "    <tr>\n",
       "      <th>8</th>\n",
       "      <td>6.87</td>\n",
       "      <td>5.0</td>\n",
       "      <td>4.7</td>\n",
       "      <td>1.0</td>\n",
       "      <td>Astapor</td>\n",
       "      <td>2014-01-30</td>\n",
       "      <td>1.0</td>\n",
       "      <td>2014-01-01</td>\n",
       "      <td>0.0</td>\n",
       "      <td>3</td>\n",
       "      <td>0</td>\n",
       "      <td>66.7</td>\n",
       "      <td>1</td>\n",
       "    </tr>\n",
       "  </tbody>\n",
       "</table>\n",
       "</div>"
      ],
      "text/plain": [
       "   avg_dist  avg_rating_by_driver  avg_rating_of_driver  avg_surge  \\\n",
       "0      6.94                   5.0                   5.0        1.0   \n",
       "1      8.06                   5.0                   5.0        1.0   \n",
       "6      4.87                   4.7                   4.0        1.0   \n",
       "7      1.78                   4.0                   5.0        1.0   \n",
       "8      6.87                   5.0                   4.7        1.0   \n",
       "\n",
       "         city last_trip_date  phone signup_date  surge_pct  \\\n",
       "0     Astapor     2014-05-03    1.0  2014-01-12        0.0   \n",
       "1     Astapor     2014-01-26    1.0  2014-01-25        0.0   \n",
       "6     Astapor     2014-04-21    1.0  2014-01-18        0.0   \n",
       "7  Winterfell     2014-01-12    0.0  2014-01-11        0.0   \n",
       "8     Astapor     2014-01-30    1.0  2014-01-01        0.0   \n",
       "\n",
       "   trips_in_first_30_days  luxury_car_user  weekday_pct  churn  \n",
       "0                       0                0        100.0      1  \n",
       "1                       2                1          0.0      1  \n",
       "6                       0                0         66.7      1  \n",
       "7                       3                0          0.0      1  \n",
       "8                       3                0         66.7      1  "
      ]
     },
     "execution_count": 53,
     "metadata": {},
     "output_type": "execute_result"
    }
   ],
   "source": [
    "df.head()"
   ]
  },
  {
   "cell_type": "code",
   "execution_count": 54,
   "metadata": {},
   "outputs": [],
   "source": [
    "import numpy as np\n",
    "import pandas as pd\n",
    "\n",
    "from sklearn.datasets import make_classification\n",
    "from sklearn.linear_model import LogisticRegression\n",
    "from sklearn.model_selection import KFold, train_test_split\n",
    "from sklearn.metrics import accuracy_score, precision_score, recall_score, mean_squared_error\n",
    "\n",
    "\n",
    "import matplotlib.pyplot as plt\n",
    "import seaborn as sns"
   ]
  },
  {
   "cell_type": "code",
   "execution_count": 55,
   "metadata": {},
   "outputs": [
    {
     "data": {
      "image/png": "[encoded data removed]",
      "text/plain": [
       "<Figure size 864x576 with 12 Axes>"
      ]
     },
     "metadata": {
      "needs_background": "light"
     },
     "output_type": "display_data"
    }
   ],
   "source": [
    "df.hist(figsize=(12,8))\n",
    "plt.tight_layout();"
   ]
  },
  {
   "cell_type": "code",
   "execution_count": 56,
   "metadata": {},
   "outputs": [
    {
     "data": {
      "image/png": "[encoded data removed]",
      "text/plain": [
       "<Figure size 864x576 with 1 Axes>"
      ]
     },
     "metadata": {
      "needs_background": "light"
     },
     "output_type": "display_data"
    }
   ],
   "source": [
    "fig, ax = plt.subplots(figsize=(12,8))\n",
    "ax = sns.barplot(x='avg_rating_of_driver', y='churn', data=df1)\n",
    "ax.set_title('Rider Churn Rate Compared to Avg Rating of Driver', fontsize=16)\n",
    "ax.set_xlabel('Average Rating of Driver', fontsize=14)\n",
    "ax.set_ylabel('Churn Rate', fontsize=14);"
   ]
  },
  {
   "cell_type": "code",
   "execution_count": 57,
   "metadata": {},
   "outputs": [],
   "source": [
    "#need to drop city due to it being a string\n",
    "df.drop(columns=['city', 'last_trip_date', 'signup_date'], inplace=True)\n",
    "\n",
    "y = df.pop('churn')\n",
    "X = df"
   ]
  },
  {
   "cell_type": "code",
   "execution_count": 59,
   "metadata": {},
   "outputs": [],
   "source": [
    "kf = KFold(n_splits=10, shuffle=True, random_state=33)\n",
    "accuracy = []\n",
    "precision = []\n",
    "recall = []\n",
    "\n",
    "X_train, X_test, y_train, y_test = train_test_split(X,y, random_state=33)\n",
    "\n",
    "for train_idx, test_idx in kf.split(X_train):\n",
    "    model = LogisticRegression(max_iter=500)\n",
    "    model.fit(X_train.iloc[train_idx], y_train.iloc[train_idx])\n",
    "    y_pred = model.predict(X_train.iloc[test_idx])\n",
    "    y_true = y_train.iloc[test_idx]\n",
    "    accuracy.append(accuracy_score(y_true, y_pred))\n",
    "    precision.append(precision_score(y_true, y_pred))\n",
    "    recall.append(recall_score(y_true, y_pred))\n",
    "    mse = mean_squared_error(y_true, y_pred)\n"
   ]
  },
  {
   "cell_type": "code",
   "execution_count": 32,
   "metadata": {},
   "outputs": [
    {
     "name": "stdout",
     "output_type": "stream",
     "text": [
      "Average accuracy: 0.6725021141340798\n",
      "Average precision: 0.690140944782355\n",
      "Average sensitivity: 0.8071907866795357\n"
     ]
    }
   ],
   "source": [
    "print('Average accuracy: {}'.format(np.mean(accuracy)))\n",
    "print('Average precision: {}'.format(np.mean(precision)))\n",
    "print('Average sensitivity: {}'.format(np.mean(recall)))"
   ]
  },
  {
   "cell_type": "code",
   "execution_count": 60,
   "metadata": {},
   "outputs": [
    {
     "name": "stdout",
     "output_type": "stream",
     "text": [
      "Ave MSE: 0.322463768115942\n"
     ]
    }
   ],
   "source": [
    "print('Ave MSE: {}'.format(np.mean(mse)))"
   ]
  },
  {
   "cell_type": "code",
   "execution_count": 34,
   "metadata": {},
   "outputs": [
    {
     "name": "stdout",
     "output_type": "stream",
     "text": [
      "avg_rating_by_driver: 0.0345\n",
      "avg_rating_of_driver: 0.1257\n",
      "avg_surge: -0.0011\n",
      "phone: 0.5629\n",
      "surge_pct: 1.0876\n",
      "trips_in_first_30_days: -0.0067\n",
      "luxury_car_user: -0.1051\n",
      "weekday_pct: -0.8486\n"
     ]
    }
   ],
   "source": [
    "for name, coef in zip(df.columns[1:], model.coef_[0]):\n",
    "    print(\"{0}: {1:0.4f}\".format(name, coef))"
   ]
  },
  {
   "cell_type": "code",
   "execution_count": 35,
   "metadata": {},
   "outputs": [
    {
     "name": "stdout",
     "output_type": "stream",
     "text": [
      "beta1: 1.03514\n",
      "beta2: 1.13400\n",
      "beta3: 0.99889\n",
      "beta4: 1.75581\n",
      "beta5: 2.96722\n",
      "beta6: 0.99333\n",
      "beta7: 0.90023\n",
      "beta8: 0.42800\n",
      "beta9: 0.99965\n"
     ]
    }
   ],
   "source": [
    "for i, coef in enumerate(model.coef_[0]):\n",
    "    print(\"beta{0}: {1:0.5f}\".format(i + 1, np.exp(coef)))"
   ]
  },
  {
   "cell_type": "code",
   "execution_count": 38,
   "metadata": {},
   "outputs": [
    {
     "data": {
      "text/plain": [
       "array([[-1.00078281, -0.45821985],\n",
       "       [-1.90474979, -0.16117851],\n",
       "       [-0.99237598, -0.46313905],\n",
       "       ...,\n",
       "       [-1.26867677, -0.33017696],\n",
       "       [-0.59591123, -0.80086646],\n",
       "       [-0.93389508, -0.49925924]])"
      ]
     },
     "execution_count": 38,
     "metadata": {},
     "output_type": "execute_result"
    }
   ],
   "source": [
    "model.predict_log_proba(X_test)"
   ]
  },
  {
   "cell_type": "code",
   "execution_count": 39,
   "metadata": {},
   "outputs": [
    {
     "data": {
      "text/plain": [
       "0.6815163588071954"
      ]
     },
     "execution_count": 39,
     "metadata": {},
     "output_type": "execute_result"
    }
   ],
   "source": [
    "model.score(X_test, y_test)"
   ]
  },
  {
   "cell_type": "code",
   "execution_count": 40,
   "metadata": {},
   "outputs": [
    {
     "data": {
      "text/plain": [
       "array([[0.36759157, 0.63240843],\n",
       "       [0.14885988, 0.85114012],\n",
       "       [0.37069488, 0.62930512],\n",
       "       ...,\n",
       "       [0.28120347, 0.71879653],\n",
       "       [0.55106019, 0.44893981],\n",
       "       [0.39301988, 0.60698012]])"
      ]
     },
     "execution_count": 40,
     "metadata": {},
     "output_type": "execute_result"
    }
   ],
   "source": [
    "model.predict_proba(X_test)"
   ]
  },
  {
   "cell_type": "code",
   "execution_count": null,
   "metadata": {},
   "outputs": [],
   "source": []
  }
 ],
 "metadata": {
  "kernelspec": {
   "display_name": "Python 3",
   "language": "python",
   "name": "python3"
  },
  "language_info": {
   "codemirror_mode": {
    "name": "ipython",
    "version": 3
   },
   "file_extension": ".py",
   "mimetype": "text/x-python",
   "name": "python",
   "nbconvert_exporter": "python",
   "pygments_lexer": "ipython3",
   "version": "3.7.9"
  }
 },
 "nbformat": 4,
 "nbformat_minor": 4
}
